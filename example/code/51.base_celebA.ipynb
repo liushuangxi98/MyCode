{
 "cells": [
  {
   "cell_type": "code",
   "execution_count": 31,
   "metadata": {
    "collapsed": true,
    "ExecuteTime": {
     "end_time": "2023-08-02T15:42:16.362932200Z",
     "start_time": "2023-08-02T15:42:16.359888400Z"
    }
   },
   "outputs": [],
   "source": [
    "import torch.optim\n",
    "import torchvision\n",
    "from torch import nn\n",
    "from torch.utils.data import DataLoader, Subset\n",
    "from torch.utils.tensorboard import SummaryWriter\n",
    "from torch.nn import Conv2d, MaxPool2d, Flatten, Linear, Sequential\n",
    "import time\n",
    "from PIL import Image\n",
    "import numpy as np"
   ]
  },
  {
   "cell_type": "code",
   "execution_count": 3,
   "outputs": [],
   "source": [
    "dataset_path = r'E:\\file\\python\\MyCode\\dataset\\51.datasets'\n",
    "train_data = torchvision.datasets.CelebA(root=dataset_path, split='train',target_type='attr',transform=torchvision.transforms.ToTensor(), download=False)\n",
    "test_data = torchvision.datasets.CelebA(root=dataset_path, split='test',target_type='attr',transform=torchvision.transforms.ToTensor(), download=False)\n",
    "\n",
    "train_loader = DataLoader(dataset=train_data, batch_size=100, shuffle=False)\n",
    "test_loader = DataLoader(dataset=test_data,  batch_size=100, shuffle=False)"
   ],
   "metadata": {
    "collapsed": false,
    "ExecuteTime": {
     "end_time": "2023-08-02T14:07:56.553735700Z",
     "start_time": "2023-08-02T14:07:45.419336300Z"
    }
   }
  },
  {
   "cell_type": "code",
   "execution_count": 4,
   "outputs": [
    {
     "name": "stdout",
     "output_type": "stream",
     "text": [
      "torch.Size([40])\n"
     ]
    }
   ],
   "source": [
    "class Model(nn.Module):\n",
    "    def __init__(self):\n",
    "        super(Model, self).__init__()\n",
    "        self.feature_process = Sequential(Conv2d(3, 30, kernel_size=50, stride=1, padding=0),\n",
    "                                          MaxPool2d(2),\n",
    "                                          Flatten(),\n",
    "                                          Linear(30*84 * 64, 40)\n",
    "                                          )\n",
    "\n",
    "\n",
    "\n",
    "    def forward(self, x):\n",
    "        x = self.feature_process(x)\n",
    "        return x\n",
    "\n",
    "cuda_available = torch.cuda.is_available()  # GPU是否可用\n",
    "device = torch.device('cuda' if cuda_available else 'cpu')\n",
    "\n",
    "demo = Model()\n",
    "demo.to(device)  # 创建模型\n",
    "\n",
    "print(train_data[0][1].size())"
   ],
   "metadata": {
    "collapsed": false,
    "ExecuteTime": {
     "end_time": "2023-08-02T14:07:56.694361Z",
     "start_time": "2023-08-02T14:07:56.554735400Z"
    }
   }
  },
  {
   "cell_type": "code",
   "execution_count": 5,
   "outputs": [],
   "source": [
    "loss_fn = nn.BCEWithLogitsLoss()  # 损失函数\n",
    "loss_fn.to(device)\n",
    "# 优化器\n",
    "learn_rate = 1e-2\n",
    "optim = torch.optim.SGD(demo.parameters(), lr=learn_rate)\n",
    "# 训练次数\n",
    "epochs = 10\n",
    "\n",
    "# 画板 tensorboard --logdir='.\\\\example\\\\data\\\\40.nn_Conv2d' --port=6012\n",
    "write = SummaryWriter('..\\\\data\\\\51.base_celeba')"
   ],
   "metadata": {
    "collapsed": false,
    "ExecuteTime": {
     "end_time": "2023-08-02T14:07:56.699361800Z",
     "start_time": "2023-08-02T14:07:56.695361Z"
    }
   }
  },
  {
   "cell_type": "code",
   "execution_count": 20,
   "outputs": [
    {
     "data": {
      "text/plain": "torch.Size([3, 218, 178])"
     },
     "execution_count": 20,
     "metadata": {},
     "output_type": "execute_result"
    }
   ],
   "source": [
    "test_data[0][0].size()"
   ],
   "metadata": {
    "collapsed": false,
    "ExecuteTime": {
     "end_time": "2023-08-02T15:26:14.231361Z",
     "start_time": "2023-08-02T15:26:14.226263700Z"
    }
   }
  },
  {
   "cell_type": "code",
   "execution_count": 7,
   "outputs": [
    {
     "name": "stdout",
     "output_type": "stream",
     "text": [
      "1628\n"
     ]
    }
   ],
   "source": [
    "print(len(train_loader))"
   ],
   "metadata": {
    "collapsed": false,
    "ExecuteTime": {
     "end_time": "2023-08-02T14:10:38.136845900Z",
     "start_time": "2023-08-02T14:10:38.073822Z"
    }
   }
  },
  {
   "cell_type": "markdown",
   "source": [
    "## 训练"
   ],
   "metadata": {
    "collapsed": false
   }
  },
  {
   "cell_type": "code",
   "execution_count": 8,
   "outputs": [
    {
     "name": "stdout",
     "output_type": "stream",
     "text": [
      "----------------------第1轮训练-----------------------\n",
      "第1轮训练完成，总损失553.0387430489063\n",
      "第1批次测试，损失62.11529919505119\n",
      "----------------------第2轮训练-----------------------\n",
      "第2轮训练完成，总损失489.24438628554344\n",
      "第2批次测试，损失59.47844064235687\n",
      "----------------------第3轮训练-----------------------\n",
      "第3轮训练完成，总损失473.32886785268784\n",
      "第3批次测试，损失58.23290482163429\n",
      "----------------------第4轮训练-----------------------\n",
      "第4轮训练完成，总损失464.36201271414757\n",
      "第4批次测试，损失57.439523458480835\n",
      "----------------------第5轮训练-----------------------\n",
      "第5轮训练完成，总损失458.16298604011536\n",
      "第5批次测试，损失56.857498437166214\n",
      "----------------------第6轮训练-----------------------\n",
      "第6轮训练完成，总损失453.39119654893875\n",
      "第6批次测试，损失56.4019401371479\n",
      "----------------------第7轮训练-----------------------\n",
      "第7轮训练完成，总损失449.4887733012438\n",
      "第7批次测试，损失56.03125524520874\n",
      "----------------------第8轮训练-----------------------\n",
      "第8轮训练完成，总损失446.1728663742542\n",
      "第8批次测试，损失55.721602857112885\n",
      "----------------------第9轮训练-----------------------\n",
      "第9轮训练完成，总损失443.28298979997635\n",
      "第9批次测试，损失55.457974433898926\n",
      "----------------------第10轮训练----------------------\n",
      "第10轮训练完成，总损失440.71880923211575\n",
      "第10批次测试，损失55.23034682869911\n"
     ]
    }
   ],
   "source": [
    "total_train_step = 0\n",
    "for epoch in range(1, 1 + epochs):\n",
    "    print(f'第{epoch}轮训练'.center(50, '-'))\n",
    "    epochs_train_loss = 0  # 批次训练集总损失\n",
    "    epochs_test_loss = 0  # 批次训练集总损失\n",
    "    for data in train_loader:\n",
    "        imgs, labels = data\n",
    "        imgs = imgs.to(device)\n",
    "        labels = labels.float()\n",
    "        labels = labels.to(device)\n",
    "        # 卷积层 - 处理特征\n",
    "        outputs = demo(imgs)\n",
    "        # 损失函数层 - 计算损失\n",
    "        loss = loss_fn(outputs, labels)\n",
    "        # 优化器 - 算法优化参数\n",
    "        optim.zero_grad()\n",
    "        loss.backward()\n",
    "        optim.step()\n",
    "        # 累加损失\n",
    "        epochs_train_loss += loss.item()\n",
    "        total_train_step += 1\n",
    "\n",
    "        if total_train_step % 100 == 0:\n",
    "            write.add_scalar('train_loss', loss.item(), total_train_step)\n",
    "    print(f'第{epoch}轮训练完成，总损失{epochs_train_loss}')\n",
    "\n",
    "    torch.save(demo.state_dict(), f'..\\\\data\\\\51.base_celeba\\\\CelebA_module_epoch{epoch}')\n",
    "\n",
    "    right_num = 0\n",
    "    with torch.no_grad():  # 测试的时候进入没有梯度计算模式，节省内存消耗并加快计算速度\n",
    "        for data in test_loader:\n",
    "            imgs, labels = data\n",
    "            imgs = imgs.to(device)\n",
    "            labels = labels.to(device)\n",
    "            labels = labels.float()\n",
    "            outputs = demo(imgs)\n",
    "            # 计算测试集损失\n",
    "            loss = loss_fn(outputs, labels)\n",
    "            epochs_test_loss += loss.item()\n",
    "            # # 测试集预测值\n",
    "            # predict = outputs.argmax(dim=1)\n",
    "            # # 预测正确的个数 累加\n",
    "            # right_num += (predict == labels).sum()\n",
    "    # right_rate = right_num / len(test_data)\n",
    "    print(f'第{epoch}批次测试，损失{epochs_test_loss}')\n",
    "    write.add_scalar('test_loss', epochs_test_loss, epochs)\n"
   ],
   "metadata": {
    "collapsed": false,
    "ExecuteTime": {
     "end_time": "2023-08-02T14:44:44.249420Z",
     "start_time": "2023-08-02T14:10:38.076274500Z"
    }
   }
  },
  {
   "cell_type": "code",
   "execution_count": 76,
   "outputs": [
    {
     "name": "stdout",
     "output_type": "stream",
     "text": [
      "大鼻子\n",
      "金发\n",
      "双下巴\n",
      "无胡子\n",
      "发际线后移\n",
      "微笑\n",
      "涂口红\n"
     ]
    }
   ],
   "source": [
    "chinese_name = \"\"\"\n",
    "5_o_Clock_Shadow：刚长出的双颊胡须\n",
    "Arched_Eyebrows：柳叶眉\n",
    "Attractive：吸引人的\n",
    "Bags_Under_Eyes：眼袋\n",
    "Bald：秃头\n",
    "Bangs：刘海\n",
    "Big_Lips：大嘴唇\n",
    "Big_Nose：大鼻子\n",
    "Black_Hair：黑发\n",
    "Blond_Hair：金发\n",
    "Blurry：模糊的\n",
    "Brown_Hair：棕发\n",
    "Bushy_Eyebrows：浓眉\n",
    "Chubby：圆胖的\n",
    "Double_Chin：双下巴\n",
    "Eyeglasses：眼镜\n",
    "Goatee：山羊胡子\n",
    "Gray_Hair：灰发或白发\n",
    "Heavy_Makeup：浓妆\n",
    "High_Cheekbones：高颧骨\n",
    "Male：男性\n",
    "Mouth_Slightly_Open：微微张开嘴巴\n",
    "Mustache：胡子，髭\n",
    "Narrow_Eyes：细长的眼睛\n",
    "No_Beard：无胡子\n",
    "Oval_Face：椭圆形的脸\n",
    "Pale_Skin：苍白的皮肤\n",
    "Pointy_Nose：尖鼻子\n",
    "Receding_Hairline：发际线后移\n",
    "Rosy_Cheeks：红润的双颊\n",
    "Sideburns：连鬓胡子\n",
    "Smiling：微笑\n",
    "Straight_Hair：直发\n",
    "Wavy_Hair：卷发\n",
    "Wearing_Earrings：戴耳环\n",
    "Wearing_Hat：戴帽子\n",
    "Wearing_Lipstick：涂口红\n",
    "Wearing_Necklace：戴项链\n",
    "Wearing_Necktie：戴领带\n",
    "Young：年轻\n",
    "\"\"\"\n",
    "chinese_name_ls = chinese_name.replace('\\n',',').strip(',').split(',')\n",
    "chinese_name_dict = {i.split('：')[0]:i.split('：')[1] for i in chinese_name_ls}\n",
    "attr_names = np.array(train_data.attr_names)\n",
    "img_path = '..\\\\..\\\\dataset\\\\51.datasets\\\\test\\\\7.png'\n",
    "img = Image.open(img_path)\n",
    "img = img.convert(\"RGB\")\n",
    "transform = torchvision.transforms.Compose([torchvision.transforms.Resize((218, 178)),torchvision.transforms.ToTensor()])\n",
    "img = transform(img)\n",
    "# demo.eval()\n",
    "img = torch.reshape(img, (1,  3, 218, 178))\n",
    "with torch.no_grad():\n",
    "    img = img.to(device)\n",
    "    output = demo(img)\n",
    "    output = torch.sigmoid(output)\n",
    "    output = torch.round(output)\n",
    "    output = output.cpu()\n",
    "    output = output.int()\n",
    "    output = np.array(output)[0]\n",
    "    output_english = attr_names[np.where(output == 1)[0]]\n",
    "    for i in output_english:\n",
    "        print(chinese_name_dict.get(i))"
   ],
   "metadata": {
    "collapsed": false,
    "ExecuteTime": {
     "end_time": "2023-08-02T16:08:57.765624600Z",
     "start_time": "2023-08-02T16:08:57.758040700Z"
    }
   }
  },
  {
   "cell_type": "code",
   "execution_count": 68,
   "outputs": [],
   "source": [],
   "metadata": {
    "collapsed": false,
    "ExecuteTime": {
     "end_time": "2023-08-02T16:06:46.156104400Z",
     "start_time": "2023-08-02T16:06:46.154104700Z"
    }
   }
  }
 ],
 "metadata": {
  "kernelspec": {
   "display_name": "Python 3",
   "language": "python",
   "name": "python3"
  },
  "language_info": {
   "codemirror_mode": {
    "name": "ipython",
    "version": 2
   },
   "file_extension": ".py",
   "mimetype": "text/x-python",
   "name": "python",
   "nbconvert_exporter": "python",
   "pygments_lexer": "ipython2",
   "version": "2.7.6"
  }
 },
 "nbformat": 4,
 "nbformat_minor": 0
}
